{
 "cells": [
  {
   "cell_type": "code",
   "execution_count": 43,
   "metadata": {},
   "outputs": [
    {
     "name": "stdout",
     "output_type": "stream",
     "text": [
      "Student Alice added successfully\n",
      "subject Math added for student Alice\n",
      "subject arabic added for student Alice\n",
      "subject Science added for student Alice\n",
      "Grade 90 recorded for Alice in subject Math\n",
      "Grade 85 recorded for Alice in subject arabic\n",
      "Grade 95 recorded for Alice in subject Science\n",
      "Student Bob added successfully\n",
      "subject Math added for student Bob\n",
      "subject arabic added for student Bob\n",
      "subject Science added for student Bob\n",
      "Grade 70 recorded for Bob in subject Math\n",
      "Grade 75 recorded for Bob in subject arabic\n",
      "Grade 80 recorded for Bob in subject Science\n",
      "Average Grades: {'Alice': 90.0, 'Bob': 75.0}\n",
      "Top student: ('Alice' , 90.0)\n"
     ]
    }
   ],
   "source": [
    "Student_data={}\n",
    "#function to add student\n",
    "def add_student(name):\n",
    "    if name not in Student_data:\n",
    "       Student_data[name]={}\n",
    "       print(f\"Student {name} added successfully\")\n",
    "       no_subjects=int(input(f\"how many subject do you want to add {name} ?\"))\n",
    "       #function to add subject\n",
    "       def add_subject(subject):\n",
    "              \n",
    "            if subject not in Student_data[name]:\n",
    "                Student_data[name][subject]=None\n",
    "                print(f\"subject {subject} added for student {name}\") \n",
    "            else:\n",
    "               print(\"subject is already found\")          \n",
    "       subject_list=[]         \n",
    "       for i in range(no_subjects):         \n",
    "        subject1=str(input(\"add subject you want:\")) \n",
    "        subject_list.append(subject1)   \n",
    "        add_subject(subject1) \n",
    "       #function to record grades\n",
    "       def record_grades(subject,grade):       \n",
    "         Student_data[name][subject]=grade\n",
    "         print(f\"Grade {grade} recorded for {name} in subject {subject}\") \n",
    "       for j in range(len(subject_list)):\n",
    "        grade1=int(input(f\"add grade for {subject_list[j]}\"))     \n",
    "        record_grades(subject_list[j],grade1)    \n",
    "    else:\n",
    "       print(\"student is already found\")        \n",
    "no_students=int(input(\"how many students do you want to add ?\"))\n",
    "name_list=[]\n",
    "for k in range(no_students):\n",
    " name_students=str(input(\"what name of student do you want to add ?\"))\n",
    " name_list.append(name_students)\n",
    "\n",
    "for u in range(len(name_list)):\n",
    "   add_student(name_list[u])   \n",
    "\n",
    "\n",
    "# Function to calculate average grades\n",
    "def Average_grades():\n",
    "    avg_grades = {}\n",
    "    for student, subjects in Student_data.items():\n",
    "        total_grades = 0\n",
    "        count = 0\n",
    "        for subject, grade in subjects.items():\n",
    "            total_grades += grade\n",
    "            count += 1\n",
    "        if count > 0:\n",
    "            avg_grades[student] = total_grades / count\n",
    "        else:\n",
    "            avg_grades[student] = 0\n",
    "    print(f\"Average Grades: {avg_grades}\")               \n",
    "    \n",
    "    #function to calculate top student\n",
    "    def top_student():\n",
    "        maxx = max(avg_grades.values())\n",
    "        for k, v in avg_grades.items():\n",
    "            if v == maxx:\n",
    "                print(f\"Top student: ('{k}' , {v})\")\n",
    "\n",
    "    top_student()\n",
    "\n",
    "\n",
    "# print average grades\n",
    "Average_grades()            "
   ]
  },
  {
   "cell_type": "code",
   "execution_count": null,
   "metadata": {},
   "outputs": [],
   "source": []
  }
 ],
 "metadata": {
  "kernelspec": {
   "display_name": "Python 3",
   "language": "python",
   "name": "python3"
  },
  "language_info": {
   "codemirror_mode": {
    "name": "ipython",
    "version": 3
   },
   "file_extension": ".py",
   "mimetype": "text/x-python",
   "name": "python",
   "nbconvert_exporter": "python",
   "pygments_lexer": "ipython3",
   "version": "3.12.4"
  }
 },
 "nbformat": 4,
 "nbformat_minor": 2
}
